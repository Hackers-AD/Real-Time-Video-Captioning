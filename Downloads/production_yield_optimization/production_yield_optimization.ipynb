{
 "cells": [
  {
   "cell_type": "code",
   "execution_count": 120,
   "id": "0dd1a236",
   "metadata": {},
   "outputs": [],
   "source": [
    "from datetime import timedelta\n",
    "import numpy as np\n",
    "import pandas as pd\n",
    "\n",
    "from statsmodels.tsa.arima.model import ARIMA\n",
    "from statsmodels.graphics.tsaplots import plot_acf, plot_pacf\n",
    "\n",
    "from sklearn.metrics import mean_squared_error, r2_score\n",
    "from sklearn.preprocessing import StandardScaler\n",
    "\n",
    "import tensorflow as tf\n",
    "from tensorflow.keras.models import Model, Sequential\n",
    "from tensorflow.keras.layers import Input, Dense\n",
    "from tensorflow.keras.optimizers import Adam\n",
    "\n",
    "import matplotlib.pyplot as plt\n",
    "import seaborn as sns\n",
    "import plotly.express as px\n",
    "\n",
    "from tqdm.notebook import tqdm"
   ]
  },
  {
   "cell_type": "code",
   "execution_count": 121,
   "id": "873d8f47",
   "metadata": {},
   "outputs": [],
   "source": [
    "df = pd.read_csv(\"dataset.txt\")"
   ]
  },
  {
   "cell_type": "code",
   "execution_count": 122,
   "id": "6bcea4b9",
   "metadata": {},
   "outputs": [
    {
     "data": {
      "text/html": [
       "<div>\n",
       "<style scoped>\n",
       "    .dataframe tbody tr th:only-of-type {\n",
       "        vertical-align: middle;\n",
       "    }\n",
       "\n",
       "    .dataframe tbody tr th {\n",
       "        vertical-align: top;\n",
       "    }\n",
       "\n",
       "    .dataframe thead th {\n",
       "        text-align: right;\n",
       "    }\n",
       "</style>\n",
       "<table border=\"1\" class=\"dataframe\">\n",
       "  <thead>\n",
       "    <tr style=\"text-align: right;\">\n",
       "      <th></th>\n",
       "      <th>date</th>\n",
       "      <th>hour est time</th>\n",
       "      <th>timestamps utc</th>\n",
       "      <th>id</th>\n",
       "      <th>duration in one minute(totalsecs)</th>\n",
       "      <th>line number (160 or170)</th>\n",
       "      <th>timestamps est</th>\n",
       "      <th>minute est</th>\n",
       "      <th>timezone est</th>\n",
       "    </tr>\n",
       "  </thead>\n",
       "  <tbody>\n",
       "    <tr>\n",
       "      <th>0</th>\n",
       "      <td>2022-11-16</td>\n",
       "      <td>6</td>\n",
       "      <td>2022-11-16 11:44:00</td>\n",
       "      <td>325</td>\n",
       "      <td>60</td>\n",
       "      <td>160</td>\n",
       "      <td>2022-11-16 06:44:00</td>\n",
       "      <td>44</td>\n",
       "      <td>America/New_York</td>\n",
       "    </tr>\n",
       "    <tr>\n",
       "      <th>1</th>\n",
       "      <td>2022-11-16</td>\n",
       "      <td>10</td>\n",
       "      <td>2022-11-16 15:32:00</td>\n",
       "      <td>5734</td>\n",
       "      <td>14</td>\n",
       "      <td>160</td>\n",
       "      <td>2022-11-16 10:32:00</td>\n",
       "      <td>32</td>\n",
       "      <td>America/New_York</td>\n",
       "    </tr>\n",
       "    <tr>\n",
       "      <th>2</th>\n",
       "      <td>2022-11-16</td>\n",
       "      <td>7</td>\n",
       "      <td>2022-11-16 12:29:00</td>\n",
       "      <td>1437</td>\n",
       "      <td>60</td>\n",
       "      <td>160</td>\n",
       "      <td>2022-11-16 07:29:00</td>\n",
       "      <td>29</td>\n",
       "      <td>America/New_York</td>\n",
       "    </tr>\n",
       "    <tr>\n",
       "      <th>3</th>\n",
       "      <td>2022-11-16</td>\n",
       "      <td>12</td>\n",
       "      <td>2022-11-16 17:02:00</td>\n",
       "      <td>6676</td>\n",
       "      <td>16</td>\n",
       "      <td>160</td>\n",
       "      <td>2022-11-16 12:02:00</td>\n",
       "      <td>2</td>\n",
       "      <td>America/New_York</td>\n",
       "    </tr>\n",
       "    <tr>\n",
       "      <th>4</th>\n",
       "      <td>2022-11-16</td>\n",
       "      <td>8</td>\n",
       "      <td>2022-11-16 13:48:00</td>\n",
       "      <td>2525</td>\n",
       "      <td>60</td>\n",
       "      <td>160</td>\n",
       "      <td>2022-11-16 08:48:00</td>\n",
       "      <td>48</td>\n",
       "      <td>America/New_York</td>\n",
       "    </tr>\n",
       "    <tr>\n",
       "      <th>5</th>\n",
       "      <td>2022-11-16</td>\n",
       "      <td>13</td>\n",
       "      <td>2022-11-16 18:18:00</td>\n",
       "      <td>8003</td>\n",
       "      <td>15</td>\n",
       "      <td>160</td>\n",
       "      <td>2022-11-16 13:18:00</td>\n",
       "      <td>18</td>\n",
       "      <td>America/New_York</td>\n",
       "    </tr>\n",
       "    <tr>\n",
       "      <th>6</th>\n",
       "      <td>2022-11-16</td>\n",
       "      <td>9</td>\n",
       "      <td>2022-11-16 14:42:00</td>\n",
       "      <td>3866</td>\n",
       "      <td>49</td>\n",
       "      <td>160</td>\n",
       "      <td>2022-11-16 09:42:00</td>\n",
       "      <td>42</td>\n",
       "      <td>America/New_York</td>\n",
       "    </tr>\n",
       "    <tr>\n",
       "      <th>7</th>\n",
       "      <td>2022-11-16</td>\n",
       "      <td>14</td>\n",
       "      <td>2022-11-16 19:16:00</td>\n",
       "      <td>9267</td>\n",
       "      <td>55</td>\n",
       "      <td>160</td>\n",
       "      <td>2022-11-16 14:16:00</td>\n",
       "      <td>16</td>\n",
       "      <td>America/New_York</td>\n",
       "    </tr>\n",
       "    <tr>\n",
       "      <th>8</th>\n",
       "      <td>2022-11-16</td>\n",
       "      <td>10</td>\n",
       "      <td>2022-11-16 15:22:00</td>\n",
       "      <td>5112</td>\n",
       "      <td>21</td>\n",
       "      <td>160</td>\n",
       "      <td>2022-11-16 10:22:00</td>\n",
       "      <td>22</td>\n",
       "      <td>America/New_York</td>\n",
       "    </tr>\n",
       "    <tr>\n",
       "      <th>9</th>\n",
       "      <td>2022-11-16</td>\n",
       "      <td>7</td>\n",
       "      <td>2022-11-16 12:05:00</td>\n",
       "      <td>908</td>\n",
       "      <td>41</td>\n",
       "      <td>160</td>\n",
       "      <td>2022-11-16 07:05:00</td>\n",
       "      <td>5</td>\n",
       "      <td>America/New_York</td>\n",
       "    </tr>\n",
       "  </tbody>\n",
       "</table>\n",
       "</div>"
      ],
      "text/plain": [
       "         date  hour est time       timestamps utc    id  \\\n",
       "0  2022-11-16              6  2022-11-16 11:44:00   325   \n",
       "1  2022-11-16             10  2022-11-16 15:32:00  5734   \n",
       "2  2022-11-16              7  2022-11-16 12:29:00  1437   \n",
       "3  2022-11-16             12  2022-11-16 17:02:00  6676   \n",
       "4  2022-11-16              8  2022-11-16 13:48:00  2525   \n",
       "5  2022-11-16             13  2022-11-16 18:18:00  8003   \n",
       "6  2022-11-16              9  2022-11-16 14:42:00  3866   \n",
       "7  2022-11-16             14  2022-11-16 19:16:00  9267   \n",
       "8  2022-11-16             10  2022-11-16 15:22:00  5112   \n",
       "9  2022-11-16              7  2022-11-16 12:05:00   908   \n",
       "\n",
       "   duration in one minute(totalsecs)  line number (160 or170)  \\\n",
       "0                                 60                      160   \n",
       "1                                 14                      160   \n",
       "2                                 60                      160   \n",
       "3                                 16                      160   \n",
       "4                                 60                      160   \n",
       "5                                 15                      160   \n",
       "6                                 49                      160   \n",
       "7                                 55                      160   \n",
       "8                                 21                      160   \n",
       "9                                 41                      160   \n",
       "\n",
       "        timestamps est  minute est      timezone est  \n",
       "0  2022-11-16 06:44:00          44  America/New_York  \n",
       "1  2022-11-16 10:32:00          32  America/New_York  \n",
       "2  2022-11-16 07:29:00          29  America/New_York  \n",
       "3  2022-11-16 12:02:00           2  America/New_York  \n",
       "4  2022-11-16 08:48:00          48  America/New_York  \n",
       "5  2022-11-16 13:18:00          18  America/New_York  \n",
       "6  2022-11-16 09:42:00          42  America/New_York  \n",
       "7  2022-11-16 14:16:00          16  America/New_York  \n",
       "8  2022-11-16 10:22:00          22  America/New_York  \n",
       "9  2022-11-16 07:05:00           5  America/New_York  "
      ]
     },
     "execution_count": 122,
     "metadata": {},
     "output_type": "execute_result"
    }
   ],
   "source": [
    "df.head(10)"
   ]
  },
  {
   "cell_type": "markdown",
   "id": "1335a87c",
   "metadata": {},
   "source": [
    "# Data Exploratory Analysis"
   ]
  },
  {
   "cell_type": "code",
   "execution_count": 123,
   "id": "73d3a03d",
   "metadata": {},
   "outputs": [
    {
     "data": {
      "text/plain": [
       "(361942, 9)"
      ]
     },
     "execution_count": 123,
     "metadata": {},
     "output_type": "execute_result"
    }
   ],
   "source": [
    "df.shape"
   ]
  },
  {
   "cell_type": "code",
   "execution_count": 124,
   "id": "b21fed81",
   "metadata": {},
   "outputs": [
    {
     "data": {
      "text/plain": [
       "Index(['date', 'hour est time', 'timestamps utc', 'id',\n",
       "       'duration in one minute(totalsecs)', 'line number (160 or170)',\n",
       "       'timestamps est', 'minute est', 'timezone est'],\n",
       "      dtype='object')"
      ]
     },
     "execution_count": 124,
     "metadata": {},
     "output_type": "execute_result"
    }
   ],
   "source": [
    "df.columns"
   ]
  },
  {
   "cell_type": "code",
   "execution_count": 125,
   "id": "64c856da",
   "metadata": {},
   "outputs": [
    {
     "data": {
      "text/plain": [
       "date                                 object\n",
       "hour est time                         int64\n",
       "timestamps utc                       object\n",
       "id                                    int64\n",
       "duration in one minute(totalsecs)     int64\n",
       "line number (160 or170)               int64\n",
       "timestamps est                       object\n",
       "minute est                            int64\n",
       "timezone est                         object\n",
       "dtype: object"
      ]
     },
     "execution_count": 125,
     "metadata": {},
     "output_type": "execute_result"
    }
   ],
   "source": [
    "df.dtypes"
   ]
  },
  {
   "cell_type": "code",
   "execution_count": 126,
   "id": "e130f4c0",
   "metadata": {},
   "outputs": [
    {
     "name": "stdout",
     "output_type": "stream",
     "text": [
      "<class 'pandas.core.frame.DataFrame'>\n",
      "RangeIndex: 361942 entries, 0 to 361941\n",
      "Data columns (total 9 columns):\n",
      " #   Column                             Non-Null Count   Dtype \n",
      "---  ------                             --------------   ----- \n",
      " 0   date                               361942 non-null  object\n",
      " 1   hour est time                      361942 non-null  int64 \n",
      " 2   timestamps utc                     361942 non-null  object\n",
      " 3   id                                 361942 non-null  int64 \n",
      " 4   duration in one minute(totalsecs)  361942 non-null  int64 \n",
      " 5   line number (160 or170)            361942 non-null  int64 \n",
      " 6   timestamps est                     361942 non-null  object\n",
      " 7   minute est                         361942 non-null  int64 \n",
      " 8   timezone est                       361942 non-null  object\n",
      "dtypes: int64(5), object(4)\n",
      "memory usage: 24.9+ MB\n"
     ]
    }
   ],
   "source": [
    "df.info()"
   ]
  },
  {
   "cell_type": "code",
   "execution_count": 127,
   "id": "e13d4bb4",
   "metadata": {},
   "outputs": [
    {
     "data": {
      "text/html": [
       "<div>\n",
       "<style scoped>\n",
       "    .dataframe tbody tr th:only-of-type {\n",
       "        vertical-align: middle;\n",
       "    }\n",
       "\n",
       "    .dataframe tbody tr th {\n",
       "        vertical-align: top;\n",
       "    }\n",
       "\n",
       "    .dataframe thead th {\n",
       "        text-align: right;\n",
       "    }\n",
       "</style>\n",
       "<table border=\"1\" class=\"dataframe\">\n",
       "  <thead>\n",
       "    <tr style=\"text-align: right;\">\n",
       "      <th></th>\n",
       "      <th>hour est time</th>\n",
       "      <th>id</th>\n",
       "      <th>duration in one minute(totalsecs)</th>\n",
       "      <th>line number (160 or170)</th>\n",
       "      <th>minute est</th>\n",
       "    </tr>\n",
       "  </thead>\n",
       "  <tbody>\n",
       "    <tr>\n",
       "      <th>count</th>\n",
       "      <td>361942.000000</td>\n",
       "      <td>361942.000000</td>\n",
       "      <td>361942.000000</td>\n",
       "      <td>361942.000000</td>\n",
       "      <td>361942.000000</td>\n",
       "    </tr>\n",
       "    <tr>\n",
       "      <th>mean</th>\n",
       "      <td>9.929773</td>\n",
       "      <td>2293.245763</td>\n",
       "      <td>30.062485</td>\n",
       "      <td>164.533599</td>\n",
       "      <td>29.669265</td>\n",
       "    </tr>\n",
       "    <tr>\n",
       "      <th>std</th>\n",
       "      <td>2.359683</td>\n",
       "      <td>2936.969236</td>\n",
       "      <td>22.263440</td>\n",
       "      <td>4.978206</td>\n",
       "      <td>17.127742</td>\n",
       "    </tr>\n",
       "    <tr>\n",
       "      <th>min</th>\n",
       "      <td>6.000000</td>\n",
       "      <td>1.000000</td>\n",
       "      <td>0.000000</td>\n",
       "      <td>160.000000</td>\n",
       "      <td>0.000000</td>\n",
       "    </tr>\n",
       "    <tr>\n",
       "      <th>25%</th>\n",
       "      <td>8.000000</td>\n",
       "      <td>455.000000</td>\n",
       "      <td>8.000000</td>\n",
       "      <td>160.000000</td>\n",
       "      <td>15.000000</td>\n",
       "    </tr>\n",
       "    <tr>\n",
       "      <th>50%</th>\n",
       "      <td>10.000000</td>\n",
       "      <td>1239.000000</td>\n",
       "      <td>27.000000</td>\n",
       "      <td>160.000000</td>\n",
       "      <td>30.000000</td>\n",
       "    </tr>\n",
       "    <tr>\n",
       "      <th>75%</th>\n",
       "      <td>12.000000</td>\n",
       "      <td>3015.000000</td>\n",
       "      <td>53.000000</td>\n",
       "      <td>170.000000</td>\n",
       "      <td>44.000000</td>\n",
       "    </tr>\n",
       "    <tr>\n",
       "      <th>max</th>\n",
       "      <td>14.000000</td>\n",
       "      <td>32775.000000</td>\n",
       "      <td>60.000000</td>\n",
       "      <td>170.000000</td>\n",
       "      <td>59.000000</td>\n",
       "    </tr>\n",
       "  </tbody>\n",
       "</table>\n",
       "</div>"
      ],
      "text/plain": [
       "       hour est time             id  duration in one minute(totalsecs)  \\\n",
       "count  361942.000000  361942.000000                      361942.000000   \n",
       "mean        9.929773    2293.245763                          30.062485   \n",
       "std         2.359683    2936.969236                          22.263440   \n",
       "min         6.000000       1.000000                           0.000000   \n",
       "25%         8.000000     455.000000                           8.000000   \n",
       "50%        10.000000    1239.000000                          27.000000   \n",
       "75%        12.000000    3015.000000                          53.000000   \n",
       "max        14.000000   32775.000000                          60.000000   \n",
       "\n",
       "       line number (160 or170)     minute est  \n",
       "count            361942.000000  361942.000000  \n",
       "mean                164.533599      29.669265  \n",
       "std                   4.978206      17.127742  \n",
       "min                 160.000000       0.000000  \n",
       "25%                 160.000000      15.000000  \n",
       "50%                 160.000000      30.000000  \n",
       "75%                 170.000000      44.000000  \n",
       "max                 170.000000      59.000000  "
      ]
     },
     "execution_count": 127,
     "metadata": {},
     "output_type": "execute_result"
    }
   ],
   "source": [
    "df.describe()"
   ]
  },
  {
   "cell_type": "markdown",
   "id": "c12da665",
   "metadata": {},
   "source": [
    "# Data Preprocessing"
   ]
  },
  {
   "cell_type": "code",
   "execution_count": 128,
   "id": "06e7b417",
   "metadata": {
    "scrolled": true
   },
   "outputs": [
    {
     "data": {
      "text/plain": [
       "date                                 0\n",
       "hour est time                        0\n",
       "timestamps utc                       0\n",
       "id                                   0\n",
       "duration in one minute(totalsecs)    0\n",
       "line number (160 or170)              0\n",
       "timestamps est                       0\n",
       "minute est                           0\n",
       "timezone est                         0\n",
       "dtype: int64"
      ]
     },
     "execution_count": 128,
     "metadata": {},
     "output_type": "execute_result"
    }
   ],
   "source": [
    "df.isna().sum()"
   ]
  },
  {
   "cell_type": "markdown",
   "id": "20f7f63d",
   "metadata": {},
   "source": [
    "Null values are not present in the given dataset."
   ]
  },
  {
   "cell_type": "code",
   "execution_count": 129,
   "id": "85a0bb07",
   "metadata": {},
   "outputs": [
    {
     "data": {
      "text/plain": [
       "311"
      ]
     },
     "execution_count": 129,
     "metadata": {},
     "output_type": "execute_result"
    }
   ],
   "source": [
    "df.duplicated().sum()"
   ]
  },
  {
   "cell_type": "code",
   "execution_count": 130,
   "id": "0e32753f",
   "metadata": {},
   "outputs": [],
   "source": [
    "df.drop_duplicates(inplace=True)"
   ]
  },
  {
   "cell_type": "markdown",
   "id": "5a6baa8d",
   "metadata": {},
   "source": [
    "Removing the duplicate observations as there are 311 observations which are duplicated. We droped the duplicates since our dataset is huge and 311 is very small observations compared to total observations."
   ]
  },
  {
   "cell_type": "code",
   "execution_count": 131,
   "id": "93db1f9a",
   "metadata": {},
   "outputs": [],
   "source": [
    "df['date'] = pd.to_datetime(df['date'])\n",
    "df['timestamps utc'] = pd.to_datetime(df['timestamps utc'])\n",
    "df['timestamps est'] = pd.to_datetime(df['timestamps est'])"
   ]
  },
  {
   "cell_type": "markdown",
   "id": "baec82b1",
   "metadata": {},
   "source": [
    "Converting the string datetime columns into pandas datetime columns."
   ]
  },
  {
   "cell_type": "code",
   "execution_count": 132,
   "id": "c80b6b06",
   "metadata": {},
   "outputs": [
    {
     "data": {
      "text/html": [
       "<div>\n",
       "<style scoped>\n",
       "    .dataframe tbody tr th:only-of-type {\n",
       "        vertical-align: middle;\n",
       "    }\n",
       "\n",
       "    .dataframe tbody tr th {\n",
       "        vertical-align: top;\n",
       "    }\n",
       "\n",
       "    .dataframe thead th {\n",
       "        text-align: right;\n",
       "    }\n",
       "</style>\n",
       "<table border=\"1\" class=\"dataframe\">\n",
       "  <thead>\n",
       "    <tr style=\"text-align: right;\">\n",
       "      <th></th>\n",
       "      <th>timestamps utc</th>\n",
       "      <th>id</th>\n",
       "      <th>duration in one minute(totalsecs)</th>\n",
       "      <th>line number (160 or170)</th>\n",
       "    </tr>\n",
       "  </thead>\n",
       "  <tbody>\n",
       "    <tr>\n",
       "      <th>0</th>\n",
       "      <td>2022-01-04 12:17:00</td>\n",
       "      <td>14</td>\n",
       "      <td>8</td>\n",
       "      <td>160</td>\n",
       "    </tr>\n",
       "    <tr>\n",
       "      <th>1</th>\n",
       "      <td>2022-01-04 12:46:00</td>\n",
       "      <td>103</td>\n",
       "      <td>7</td>\n",
       "      <td>160</td>\n",
       "    </tr>\n",
       "    <tr>\n",
       "      <th>2</th>\n",
       "      <td>2022-01-04 12:47:00</td>\n",
       "      <td>112</td>\n",
       "      <td>8</td>\n",
       "      <td>160</td>\n",
       "    </tr>\n",
       "    <tr>\n",
       "      <th>3</th>\n",
       "      <td>2022-01-04 12:48:00</td>\n",
       "      <td>112</td>\n",
       "      <td>1</td>\n",
       "      <td>160</td>\n",
       "    </tr>\n",
       "    <tr>\n",
       "      <th>4</th>\n",
       "      <td>2022-01-04 12:49:00</td>\n",
       "      <td>112</td>\n",
       "      <td>8</td>\n",
       "      <td>160</td>\n",
       "    </tr>\n",
       "    <tr>\n",
       "      <th>...</th>\n",
       "      <td>...</td>\n",
       "      <td>...</td>\n",
       "      <td>...</td>\n",
       "      <td>...</td>\n",
       "    </tr>\n",
       "    <tr>\n",
       "      <th>361626</th>\n",
       "      <td>2023-08-08 18:29:00</td>\n",
       "      <td>10494</td>\n",
       "      <td>38</td>\n",
       "      <td>170</td>\n",
       "    </tr>\n",
       "    <tr>\n",
       "      <th>361627</th>\n",
       "      <td>2023-08-08 18:29:00</td>\n",
       "      <td>10427</td>\n",
       "      <td>16</td>\n",
       "      <td>170</td>\n",
       "    </tr>\n",
       "    <tr>\n",
       "      <th>361628</th>\n",
       "      <td>2023-08-08 18:29:00</td>\n",
       "      <td>10494</td>\n",
       "      <td>14</td>\n",
       "      <td>170</td>\n",
       "    </tr>\n",
       "    <tr>\n",
       "      <th>361629</th>\n",
       "      <td>2023-08-08 18:30:00</td>\n",
       "      <td>10442</td>\n",
       "      <td>49</td>\n",
       "      <td>170</td>\n",
       "    </tr>\n",
       "    <tr>\n",
       "      <th>361630</th>\n",
       "      <td>2023-08-08 18:30:00</td>\n",
       "      <td>10427</td>\n",
       "      <td>10</td>\n",
       "      <td>170</td>\n",
       "    </tr>\n",
       "  </tbody>\n",
       "</table>\n",
       "<p>361631 rows × 4 columns</p>\n",
       "</div>"
      ],
      "text/plain": [
       "            timestamps utc     id  duration in one minute(totalsecs)  \\\n",
       "0      2022-01-04 12:17:00     14                                  8   \n",
       "1      2022-01-04 12:46:00    103                                  7   \n",
       "2      2022-01-04 12:47:00    112                                  8   \n",
       "3      2022-01-04 12:48:00    112                                  1   \n",
       "4      2022-01-04 12:49:00    112                                  8   \n",
       "...                    ...    ...                                ...   \n",
       "361626 2023-08-08 18:29:00  10494                                 38   \n",
       "361627 2023-08-08 18:29:00  10427                                 16   \n",
       "361628 2023-08-08 18:29:00  10494                                 14   \n",
       "361629 2023-08-08 18:30:00  10442                                 49   \n",
       "361630 2023-08-08 18:30:00  10427                                 10   \n",
       "\n",
       "        line number (160 or170)  \n",
       "0                           160  \n",
       "1                           160  \n",
       "2                           160  \n",
       "3                           160  \n",
       "4                           160  \n",
       "...                         ...  \n",
       "361626                      170  \n",
       "361627                      170  \n",
       "361628                      170  \n",
       "361629                      170  \n",
       "361630                      170  \n",
       "\n",
       "[361631 rows x 4 columns]"
      ]
     },
     "execution_count": 132,
     "metadata": {},
     "output_type": "execute_result"
    }
   ],
   "source": [
    "selected_columns = ['timestamps utc', 'id', 'duration in one minute(totalsecs)', 'line number (160 or170)']\n",
    "df_pro = df[selected_columns].sort_values(by=['line number (160 or170)', 'timestamps utc']).reset_index(drop=True)\n",
    "df_pro"
   ]
  },
  {
   "cell_type": "markdown",
   "id": "0cde3cb0",
   "metadata": {},
   "source": [
    "Grouping the data frame by timestamps and line number because we need to process timestamps of different line numbers separately as the items can be manufactured from different line at the same time."
   ]
  },
  {
   "cell_type": "code",
   "execution_count": 133,
   "id": "df5dfd5a",
   "metadata": {},
   "outputs": [],
   "source": [
    "df_pro.rename(columns= {'timestamps utc': 'timestamps',\n",
    "                        'id': 'itemid',\n",
    "                        'duration in one minute(totalsecs)': 'totalsecs', \n",
    "                        'line number (160 or170)': 'slot'}, inplace=True)"
   ]
  },
  {
   "cell_type": "markdown",
   "id": "424c2100",
   "metadata": {},
   "source": [
    "Renaming columns into shorter, meaningful and usable names for preprocessing."
   ]
  },
  {
   "cell_type": "code",
   "execution_count": 134,
   "id": "303fe645",
   "metadata": {},
   "outputs": [
    {
     "data": {
      "text/html": [
       "<div>\n",
       "<style scoped>\n",
       "    .dataframe tbody tr th:only-of-type {\n",
       "        vertical-align: middle;\n",
       "    }\n",
       "\n",
       "    .dataframe tbody tr th {\n",
       "        vertical-align: top;\n",
       "    }\n",
       "\n",
       "    .dataframe thead th {\n",
       "        text-align: right;\n",
       "    }\n",
       "</style>\n",
       "<table border=\"1\" class=\"dataframe\">\n",
       "  <thead>\n",
       "    <tr style=\"text-align: right;\">\n",
       "      <th></th>\n",
       "      <th>timestamps</th>\n",
       "      <th>itemid</th>\n",
       "      <th>totalsecs</th>\n",
       "      <th>slot</th>\n",
       "    </tr>\n",
       "  </thead>\n",
       "  <tbody>\n",
       "    <tr>\n",
       "      <th>0</th>\n",
       "      <td>2022-01-04 12:17:00</td>\n",
       "      <td>14</td>\n",
       "      <td>8</td>\n",
       "      <td>160</td>\n",
       "    </tr>\n",
       "    <tr>\n",
       "      <th>1</th>\n",
       "      <td>2022-01-04 12:46:00</td>\n",
       "      <td>103</td>\n",
       "      <td>7</td>\n",
       "      <td>160</td>\n",
       "    </tr>\n",
       "    <tr>\n",
       "      <th>2</th>\n",
       "      <td>2022-01-04 12:47:00</td>\n",
       "      <td>112</td>\n",
       "      <td>8</td>\n",
       "      <td>160</td>\n",
       "    </tr>\n",
       "  </tbody>\n",
       "</table>\n",
       "</div>"
      ],
      "text/plain": [
       "           timestamps  itemid  totalsecs  slot\n",
       "0 2022-01-04 12:17:00      14          8   160\n",
       "1 2022-01-04 12:46:00     103          7   160\n",
       "2 2022-01-04 12:47:00     112          8   160"
      ]
     },
     "execution_count": 134,
     "metadata": {},
     "output_type": "execute_result"
    }
   ],
   "source": [
    "df_pro.head(3)"
   ]
  },
  {
   "cell_type": "code",
   "execution_count": 135,
   "id": "11d3d4fd",
   "metadata": {},
   "outputs": [],
   "source": [
    "def merge_timestamps(df_p, threshold_seconds=180):\n",
    "    df = df_p.copy()\n",
    "    df['merged_itemid'] = df['itemid']\n",
    "    df['merged_totalsecs'] = df['totalsecs']\n",
    "\n",
    "    # Iterate through rows to merge subsequent observations\n",
    "    for i in tqdm(range(1, len(df))):\n",
    "        current_row = df.iloc[i]\n",
    "        prev_row = df.iloc[i - 1]\n",
    "\n",
    "        # Check if the slots are the same and the timestamp difference is below the threshold\n",
    "        if (\n",
    "            current_row['slot'] == prev_row['slot'] and\n",
    "            (current_row['timestamps'] - prev_row['timestamps']).total_seconds() < threshold_seconds\n",
    "        ):\n",
    "            # Merge subsequent observations\n",
    "            df.at[i, 'merged_itemid'] = prev_row['merged_itemid']\n",
    "            df.at[i, 'merged_totalsecs'] = prev_row['merged_totalsecs'] + current_row['totalsecs']\n",
    "\n",
    "    # Drop the unnecessary columns\n",
    "    df.drop(columns=['itemid', 'totalsecs'], inplace=True)\n",
    "\n",
    "    # Rename the merged columns\n",
    "    df.rename(columns={'merged_itemid': 'itemid', 'merged_totalsecs': 'totalsecs'}, inplace=True)\n",
    "\n",
    "    return df"
   ]
  },
  {
   "cell_type": "code",
   "execution_count": 136,
   "id": "9aba93bd",
   "metadata": {},
   "outputs": [
    {
     "data": {
      "application/vnd.jupyter.widget-view+json": {
       "model_id": "7151d85af6fa4250823b99a5dcf058be",
       "version_major": 2,
       "version_minor": 0
      },
      "text/plain": [
       "  0%|          | 0/361630 [00:00<?, ?it/s]"
      ]
     },
     "metadata": {},
     "output_type": "display_data"
    }
   ],
   "source": [
    "df_processed = merge_timestamps(df_pro)"
   ]
  },
  {
   "cell_type": "code",
   "execution_count": 137,
   "id": "ba06067a",
   "metadata": {},
   "outputs": [],
   "source": [
    "# df_processed.to_csv(\"clean_dataset.csv\")\n",
    "# df_processed = pd.read_csv('clean_dataset.csv').drop(\"Unnamed: 0\", axis=1)"
   ]
  },
  {
   "cell_type": "code",
   "execution_count": 138,
   "id": "43afa4b7",
   "metadata": {},
   "outputs": [
    {
     "data": {
      "text/html": [
       "<div>\n",
       "<style scoped>\n",
       "    .dataframe tbody tr th:only-of-type {\n",
       "        vertical-align: middle;\n",
       "    }\n",
       "\n",
       "    .dataframe tbody tr th {\n",
       "        vertical-align: top;\n",
       "    }\n",
       "\n",
       "    .dataframe thead th {\n",
       "        text-align: right;\n",
       "    }\n",
       "</style>\n",
       "<table border=\"1\" class=\"dataframe\">\n",
       "  <thead>\n",
       "    <tr style=\"text-align: right;\">\n",
       "      <th></th>\n",
       "      <th>timestamps</th>\n",
       "      <th>slot</th>\n",
       "      <th>itemid</th>\n",
       "      <th>totalsecs</th>\n",
       "    </tr>\n",
       "  </thead>\n",
       "  <tbody>\n",
       "    <tr>\n",
       "      <th>0</th>\n",
       "      <td>2022-01-04 12:17:00</td>\n",
       "      <td>160</td>\n",
       "      <td>14</td>\n",
       "      <td>8</td>\n",
       "    </tr>\n",
       "    <tr>\n",
       "      <th>1</th>\n",
       "      <td>2022-01-04 12:46:00</td>\n",
       "      <td>160</td>\n",
       "      <td>103</td>\n",
       "      <td>7</td>\n",
       "    </tr>\n",
       "    <tr>\n",
       "      <th>2</th>\n",
       "      <td>2022-01-04 12:47:00</td>\n",
       "      <td>160</td>\n",
       "      <td>103</td>\n",
       "      <td>15</td>\n",
       "    </tr>\n",
       "    <tr>\n",
       "      <th>3</th>\n",
       "      <td>2022-01-04 12:48:00</td>\n",
       "      <td>160</td>\n",
       "      <td>103</td>\n",
       "      <td>16</td>\n",
       "    </tr>\n",
       "    <tr>\n",
       "      <th>4</th>\n",
       "      <td>2022-01-04 12:49:00</td>\n",
       "      <td>160</td>\n",
       "      <td>103</td>\n",
       "      <td>24</td>\n",
       "    </tr>\n",
       "    <tr>\n",
       "      <th>...</th>\n",
       "      <td>...</td>\n",
       "      <td>...</td>\n",
       "      <td>...</td>\n",
       "      <td>...</td>\n",
       "    </tr>\n",
       "    <tr>\n",
       "      <th>361626</th>\n",
       "      <td>2023-08-08 18:29:00</td>\n",
       "      <td>170</td>\n",
       "      <td>6834</td>\n",
       "      <td>9967</td>\n",
       "    </tr>\n",
       "    <tr>\n",
       "      <th>361627</th>\n",
       "      <td>2023-08-08 18:29:00</td>\n",
       "      <td>170</td>\n",
       "      <td>6834</td>\n",
       "      <td>9983</td>\n",
       "    </tr>\n",
       "    <tr>\n",
       "      <th>361628</th>\n",
       "      <td>2023-08-08 18:29:00</td>\n",
       "      <td>170</td>\n",
       "      <td>6834</td>\n",
       "      <td>9997</td>\n",
       "    </tr>\n",
       "    <tr>\n",
       "      <th>361629</th>\n",
       "      <td>2023-08-08 18:30:00</td>\n",
       "      <td>170</td>\n",
       "      <td>6834</td>\n",
       "      <td>10046</td>\n",
       "    </tr>\n",
       "    <tr>\n",
       "      <th>361630</th>\n",
       "      <td>2023-08-08 18:30:00</td>\n",
       "      <td>170</td>\n",
       "      <td>6834</td>\n",
       "      <td>10056</td>\n",
       "    </tr>\n",
       "  </tbody>\n",
       "</table>\n",
       "<p>361631 rows × 4 columns</p>\n",
       "</div>"
      ],
      "text/plain": [
       "                timestamps  slot  itemid  totalsecs\n",
       "0      2022-01-04 12:17:00   160      14          8\n",
       "1      2022-01-04 12:46:00   160     103          7\n",
       "2      2022-01-04 12:47:00   160     103         15\n",
       "3      2022-01-04 12:48:00   160     103         16\n",
       "4      2022-01-04 12:49:00   160     103         24\n",
       "...                    ...   ...     ...        ...\n",
       "361626 2023-08-08 18:29:00   170    6834       9967\n",
       "361627 2023-08-08 18:29:00   170    6834       9983\n",
       "361628 2023-08-08 18:29:00   170    6834       9997\n",
       "361629 2023-08-08 18:30:00   170    6834      10046\n",
       "361630 2023-08-08 18:30:00   170    6834      10056\n",
       "\n",
       "[361631 rows x 4 columns]"
      ]
     },
     "execution_count": 138,
     "metadata": {},
     "output_type": "execute_result"
    }
   ],
   "source": [
    "df_processed"
   ]
  },
  {
   "cell_type": "code",
   "execution_count": 139,
   "id": "bdc33532",
   "metadata": {},
   "outputs": [
    {
     "data": {
      "text/plain": [
       "(361631, 4)"
      ]
     },
     "execution_count": 139,
     "metadata": {},
     "output_type": "execute_result"
    }
   ],
   "source": [
    "df_processed.shape"
   ]
  },
  {
   "cell_type": "markdown",
   "id": "f72ac991",
   "metadata": {},
   "source": [
    "Converting the datetime into suitable format to fed into model.\n",
    "1. Converting to respective components.\n",
    "2. Converting the whole datetime to seconds."
   ]
  },
  {
   "cell_type": "code",
   "execution_count": 140,
   "id": "5a7b5e53",
   "metadata": {},
   "outputs": [],
   "source": [
    "# df_processed['year'] = df_processed['timestamps'].dt.year\n",
    "# df_processed['month'] = df_processed['timestamps'].dt.month\n",
    "# df_processed['day'] = df_processed['timestamps'].dt.day\n",
    "# df_processed['hour'] = df_processed['timestamps'].dt.hour\n",
    "# df_processed['minute'] = df_processed['timestamps'].dt.minute\n",
    "# df_processed['second'] = df_processed['timestamps'].dt.second"
   ]
  },
  {
   "cell_type": "code",
   "execution_count": 141,
   "id": "9ca219ae",
   "metadata": {
    "scrolled": true
   },
   "outputs": [
    {
     "data": {
      "text/html": [
       "<div>\n",
       "<style scoped>\n",
       "    .dataframe tbody tr th:only-of-type {\n",
       "        vertical-align: middle;\n",
       "    }\n",
       "\n",
       "    .dataframe tbody tr th {\n",
       "        vertical-align: top;\n",
       "    }\n",
       "\n",
       "    .dataframe thead th {\n",
       "        text-align: right;\n",
       "    }\n",
       "</style>\n",
       "<table border=\"1\" class=\"dataframe\">\n",
       "  <thead>\n",
       "    <tr style=\"text-align: right;\">\n",
       "      <th></th>\n",
       "      <th>timestamps</th>\n",
       "      <th>slot</th>\n",
       "      <th>itemid</th>\n",
       "      <th>totalsecs</th>\n",
       "      <th>timestamps_seconds</th>\n",
       "    </tr>\n",
       "  </thead>\n",
       "  <tbody>\n",
       "    <tr>\n",
       "      <th>0</th>\n",
       "      <td>2022-01-04 12:17:00</td>\n",
       "      <td>160</td>\n",
       "      <td>14</td>\n",
       "      <td>8</td>\n",
       "      <td>1641298620</td>\n",
       "    </tr>\n",
       "    <tr>\n",
       "      <th>1</th>\n",
       "      <td>2022-01-04 12:46:00</td>\n",
       "      <td>160</td>\n",
       "      <td>103</td>\n",
       "      <td>7</td>\n",
       "      <td>1641300360</td>\n",
       "    </tr>\n",
       "    <tr>\n",
       "      <th>2</th>\n",
       "      <td>2022-01-04 12:47:00</td>\n",
       "      <td>160</td>\n",
       "      <td>103</td>\n",
       "      <td>15</td>\n",
       "      <td>1641300420</td>\n",
       "    </tr>\n",
       "  </tbody>\n",
       "</table>\n",
       "</div>"
      ],
      "text/plain": [
       "           timestamps  slot  itemid  totalsecs  timestamps_seconds\n",
       "0 2022-01-04 12:17:00   160      14          8          1641298620\n",
       "1 2022-01-04 12:46:00   160     103          7          1641300360\n",
       "2 2022-01-04 12:47:00   160     103         15          1641300420"
      ]
     },
     "execution_count": 141,
     "metadata": {},
     "output_type": "execute_result"
    }
   ],
   "source": [
    "df_processed['timestamps_seconds'] = pd.to_datetime(df_processed['timestamps']).astype('int64') // 10**9\n",
    "df_processed.head(3)"
   ]
  },
  {
   "cell_type": "markdown",
   "id": "5f76a720",
   "metadata": {},
   "source": [
    "# Dummy Dataset Generation"
   ]
  },
  {
   "cell_type": "markdown",
   "id": "1ffe1a68",
   "metadata": {},
   "source": [
    "Using Generative Adversial Network (GAN) model for dummy dataset generation."
   ]
  },
  {
   "cell_type": "code",
   "execution_count": 142,
   "id": "3b7e8f45",
   "metadata": {},
   "outputs": [],
   "source": [
    "class GANModel:\n",
    "    def __init__(self, output_size,input_size=100, batch_size=64, epochs=1000, lr=0.002):\n",
    "        # Hyperparameters\n",
    "        self.input_size = input_size\n",
    "        self.output_size = output_size\n",
    "        self.batch_size = batch_size\n",
    "        self.epochs = epochs\n",
    "        self.lr = lr\n",
    "        self.model = None\n",
    "        self.gen = None\n",
    "        self.dis = None\n",
    "\n",
    "    # Generator definition\n",
    "    def build_generator(self):\n",
    "        model = Sequential()\n",
    "        model.add(Dense(128, input_dim=self.input_size, activation='relu'))\n",
    "        model.add(Dense(self.output_size, activation='linear'))\n",
    "        return model\n",
    "\n",
    "    # Discriminator definition\n",
    "    def build_discriminator(self):\n",
    "        model = Sequential()\n",
    "        model.add(Dense(128, input_dim=self.output_size, activation='relu'))\n",
    "        model.add(Dense(1, activation='sigmoid'))\n",
    "        return model\n",
    "\n",
    "    def build_model(self):\n",
    "        # Build and compile the discriminator\n",
    "        discriminator = self.build_discriminator()\n",
    "        discriminator.compile(optimizer=Adam(learning_rate=self.lr), loss='binary_crossentropy', metrics=['accuracy'])\n",
    "        self.dis = discriminator\n",
    "\n",
    "        # Build the generator\n",
    "        generator = self.build_generator()\n",
    "        self.gen = generator\n",
    "\n",
    "        # Build the GAN model (stacking generator and discriminator)\n",
    "        self.dis.trainable = False \n",
    "        gan_input = Input(shape=(self.input_size,))\n",
    "        fake_data = self.gen(gan_input)\n",
    "        gan_output = self.dis(fake_data)\n",
    "        gan = Model(gan_input, gan_output)\n",
    "        gan.compile(optimizer=Adam(learning_rate=self.lr), loss='binary_crossentropy', metrics=['accuracy'])\n",
    "        self.model = gan\n",
    "        \n",
    "    def data_batch_generator(self, df, columns):\n",
    "        \n",
    "        num_batches = df.shape[0] // self.batch_size\n",
    "\n",
    "        for epoch in range(num_batches):\n",
    "            start_idx = epoch * self.batch_size\n",
    "            end_idx = (epoch + 1) * self.batch_size\n",
    "\n",
    "            batch_data = df.iloc[start_idx:end_idx][columns].values\n",
    "            yield batch_data\n",
    "    \n",
    "    def train_model(self, cols, df):\n",
    "        data_gen = self.data_batch_generator(df, cols)\n",
    "        \n",
    "        for epoch in range(self.epochs):\n",
    "            \n",
    "            noise = np.random.normal(0, 1, size=(self.batch_size, self.input_size))\n",
    "\n",
    "            # Generate fake data using the generator\n",
    "            generated_data = self.gen.predict(noise, verbose=0)\n",
    "\n",
    "            real_data = next(data_gen)\n",
    "\n",
    "            # Labels for real and fake data\n",
    "            real_labels = np.ones((self.batch_size, 1))\n",
    "            fake_labels = np.zeros((self.batch_size, 1))\n",
    "\n",
    "            # Train discriminator on real and fake data\n",
    "            d_loss_real = self.dis.train_on_batch(real_data, real_labels)\n",
    "            d_loss_fake = self.dis.train_on_batch(generated_data, fake_labels)\n",
    "\n",
    "            # Calculate total discriminator loss\n",
    "            d_loss = 0.5 * np.add(d_loss_real, d_loss_fake)\n",
    "\n",
    "            # Train generator\n",
    "            noise = np.random.normal(0, 1, size=(self.batch_size, self.input_size))\n",
    "            g_loss = self.model.train_on_batch(noise, real_labels)\n",
    "\n",
    "            # Print progress\n",
    "            if epoch % 100 == 0:\n",
    "                print(f'Epoch {epoch}/{self.epochs}, D Loss: {d_loss[0]}, G Loss: {g_loss[0]}, G Accuracy: {g_loss[1]}')\n",
    "                \n",
    "    def generate_real_data(self, sample_size):\n",
    "        noise = np.random.normal(0, 1, size=(sample_size, self.input_size))\n",
    "        return self.gen.predict(noise)"
   ]
  },
  {
   "cell_type": "code",
   "execution_count": 143,
   "id": "08e80cdf",
   "metadata": {},
   "outputs": [
    {
     "name": "stdout",
     "output_type": "stream",
     "text": [
      "Model: \"model_13\"\n",
      "_________________________________________________________________\n",
      " Layer (type)                Output Shape              Param #   \n",
      "=================================================================\n",
      " input_14 (InputLayer)       [(None, 100)]             0         \n",
      "                                                                 \n",
      " sequential_27 (Sequential)  (None, 4)                 13444     \n",
      "                                                                 \n",
      " sequential_26 (Sequential)  (None, 1)                 769       \n",
      "                                                                 \n",
      "=================================================================\n",
      "Total params: 14213 (55.52 KB)\n",
      "Trainable params: 13444 (52.52 KB)\n",
      "Non-trainable params: 769 (3.00 KB)\n",
      "_________________________________________________________________\n"
     ]
    }
   ],
   "source": [
    "gan = GANModel(output_size=len(train_cols))\n",
    "gan.build_model()\n",
    "gan.model.summary()"
   ]
  },
  {
   "cell_type": "code",
   "execution_count": null,
   "id": "6ea4d169",
   "metadata": {
    "scrolled": true
   },
   "outputs": [
    {
     "name": "stdout",
     "output_type": "stream",
     "text": [
      "Epoch 0/1000, D Loss: 0.32326841354370117, G Loss: 0.7710257768630981, G Accuracy: 0.21875\n",
      "Epoch 100/1000, D Loss: 0.4198937714099884, G Loss: 0.6869375705718994, G Accuracy: 0.53125\n",
      "Epoch 200/1000, D Loss: 5.20088005065918, G Loss: 6.375869270414114e-05, G Accuracy: 1.0\n",
      "Epoch 300/1000, D Loss: 3.7786812782287598, G Loss: 0.006947527173906565, G Accuracy: 1.0\n",
      "Epoch 400/1000, D Loss: 2.883057117462158, G Loss: 0.017524030059576035, G Accuracy: 1.0\n",
      "Epoch 500/1000, D Loss: 2.705474853515625, G Loss: 0.022034533321857452, G Accuracy: 1.0\n"
     ]
    }
   ],
   "source": [
    "gan.train_model(train_cols, df_processed)"
   ]
  },
  {
   "cell_type": "code",
   "execution_count": null,
   "id": "52ccfe31",
   "metadata": {},
   "outputs": [],
   "source": [
    "def generate_real_data(sample_size):\n",
    "    noise = np.random.normal(0, 1, size=(sample_size, 100))\n",
    "    return gan.gen.predict(noise, verbose=1)"
   ]
  },
  {
   "cell_type": "code",
   "execution_count": null,
   "id": "330cadbc",
   "metadata": {},
   "outputs": [],
   "source": [
    "df_gen = pd.DataFrame(generate_real_data(1000))"
   ]
  },
  {
   "cell_type": "code",
   "execution_count": null,
   "id": "f7e56997",
   "metadata": {},
   "outputs": [],
   "source": [
    "plt.figure(figsize=(10, 5))\n",
    "plt.plot(df_gen.iloc[:, -1], df_gen.iloc[:, -2], 'g--')\n",
    "plt.show()"
   ]
  },
  {
   "cell_type": "markdown",
   "id": "063f269a",
   "metadata": {},
   "source": [
    "# Statistical Analysis"
   ]
  },
  {
   "cell_type": "code",
   "execution_count": null,
   "id": "60a46368",
   "metadata": {},
   "outputs": [],
   "source": []
  },
  {
   "cell_type": "code",
   "execution_count": null,
   "id": "70dc92ea",
   "metadata": {},
   "outputs": [],
   "source": []
  },
  {
   "cell_type": "code",
   "execution_count": null,
   "id": "78864d3b",
   "metadata": {},
   "outputs": [],
   "source": []
  },
  {
   "cell_type": "code",
   "execution_count": null,
   "id": "8fb1fa82",
   "metadata": {},
   "outputs": [],
   "source": []
  },
  {
   "cell_type": "markdown",
   "id": "d4506f78",
   "metadata": {},
   "source": [
    "# Data Visualization and Analysis"
   ]
  },
  {
   "cell_type": "code",
   "execution_count": null,
   "id": "4fed7d00",
   "metadata": {},
   "outputs": [],
   "source": [
    "def plot_average_production_time(df):\n",
    "    fig, ax = plt.subplots(figsize=(10, 5))\n",
    "    ax.plot(df['timestamps'], df['totalsecs'], color=\"orange\")\n",
    "    plt.ylabel(\"Average time duration for an event\")\n",
    "    plt.xlabel(\"Date\")\n",
    "    plt.title(\"Date versus Average Time\")\n",
    "    plt.show()"
   ]
  },
  {
   "cell_type": "code",
   "execution_count": null,
   "id": "e140259a",
   "metadata": {},
   "outputs": [],
   "source": [
    "plot_average_production_time(df_processed)"
   ]
  },
  {
   "cell_type": "markdown",
   "id": "24fc91b0",
   "metadata": {},
   "source": [
    "The production time is much less in 2023 compared to 2022."
   ]
  },
  {
   "cell_type": "code",
   "execution_count": null,
   "id": "79a9184c",
   "metadata": {},
   "outputs": [],
   "source": []
  }
 ],
 "metadata": {
  "kernelspec": {
   "display_name": "Python 3 (ipykernel)",
   "language": "python",
   "name": "python3"
  },
  "language_info": {
   "codemirror_mode": {
    "name": "ipython",
    "version": 3
   },
   "file_extension": ".py",
   "mimetype": "text/x-python",
   "name": "python",
   "nbconvert_exporter": "python",
   "pygments_lexer": "ipython3",
   "version": "3.11.5"
  }
 },
 "nbformat": 4,
 "nbformat_minor": 5
}
